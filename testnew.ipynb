{
 "cells": [
  {
   "cell_type": "code",
   "execution_count": 1,
   "id": "48079929",
   "metadata": {
    "_cell_guid": "b1076dfc-b9ad-4769-8c92-a6c4dae69d19",
    "_uuid": "8f2839f25d086af736a60e9eeb907d3b93b6e0e5",
    "execution": {
     "iopub.execute_input": "2022-02-01T05:57:46.342679Z",
     "iopub.status.busy": "2022-02-01T05:57:46.336621Z",
     "iopub.status.idle": "2022-02-01T05:57:46.367266Z",
     "shell.execute_reply": "2022-02-01T05:57:46.368159Z"
    },
    "papermill": {
     "duration": 0.073786,
     "end_time": "2022-02-01T05:57:46.368643",
     "exception": false,
     "start_time": "2022-02-01T05:57:46.294857",
     "status": "completed"
    },
    "tags": []
   },
   "outputs": [],
   "source": [
    "# This Python 3 environment comes with many helpful analytics libraries installed\n",
    "# It is defined by the kaggle/python Docker image: https://github.com/kaggle/docker-python\n",
    "# For example, here's several helpful packages to load\n",
    "\n",
    "import numpy as np # linear algebra\n",
    "import pandas as pd # data processing, CSV file I/O (e.g. pd.read_csv)\n",
    "\n",
    "# Input data files are available in the read-only \"../input/\" directory\n",
    "# For example, running this (by clicking run or pressing Shift+Enter) will list all files under the input directory\n",
    "\n"
   ]
  },
  {
   "cell_type": "code",
   "execution_count": 2,
   "id": "6712f683",
   "metadata": {
    "execution": {
     "iopub.execute_input": "2022-02-01T05:57:46.419606Z",
     "iopub.status.busy": "2022-02-01T05:57:46.418611Z",
     "iopub.status.idle": "2022-02-01T05:58:28.950679Z",
     "shell.execute_reply": "2022-02-01T05:58:28.949686Z"
    },
    "papermill": {
     "duration": 42.560767,
     "end_time": "2022-02-01T05:58:28.950859",
     "exception": false,
     "start_time": "2022-02-01T05:57:46.390092",
     "status": "completed"
    },
    "tags": []
   },
   "outputs": [
    {
     "name": "stdout",
     "output_type": "stream",
     "text": [
      "Collecting scikit-learn\n",
      "  Using cached scikit_learn-1.4.2-cp39-cp39-win_amd64.whl (10.6 MB)\n",
      "Collecting scipy>=1.6.0\n",
      "  Using cached scipy-1.13.0-cp39-cp39-win_amd64.whl (46.2 MB)\n",
      "Collecting numpy>=1.19.5\n",
      "  Using cached numpy-1.26.4-cp39-cp39-win_amd64.whl (15.8 MB)\n",
      "Collecting joblib>=1.2.0\n",
      "  Using cached joblib-1.4.0-py3-none-any.whl (301 kB)\n",
      "Collecting threadpoolctl>=2.0.0\n",
      "  Using cached threadpoolctl-3.4.0-py3-none-any.whl (17 kB)\n",
      "Installing collected packages: threadpoolctl, numpy, joblib, scipy, scikit-learn\n",
      "  Attempting uninstall: threadpoolctl\n",
      "    Found existing installation: threadpoolctl 3.4.0\n",
      "    Uninstalling threadpoolctl-3.4.0:\n",
      "      Successfully uninstalled threadpoolctl-3.4.0\n",
      "  Attempting uninstall: numpy\n",
      "    Found existing installation: numpy 1.26.4\n",
      "    Uninstalling numpy-1.26.4:\n",
      "      Successfully uninstalled numpy-1.26.4\n"
     ]
    },
    {
     "name": "stderr",
     "output_type": "stream",
     "text": [
      "ERROR: Could not install packages due to an OSError: [WinError 5] Access is denied: 'C:\\\\Users\\\\MS\\\\anaconda3\\\\Lib\\\\site-packages\\\\~umpy.libs\\\\libopenblas64__v0.3.23-293-gc2f4bdbb-gcc_10_3_0-2bde3a66a51006b2b53eb373ff767a3f.dll'\n",
      "Consider using the `--user` option or check the permissions.\n",
      "\n"
     ]
    }
   ],
   "source": [
    "! pip install scikit-learn --upgrade --force-reinstall"
   ]
  },
  {
   "cell_type": "code",
   "execution_count": 3,
   "id": "f805e951",
   "metadata": {
    "execution": {
     "iopub.execute_input": "2022-02-01T05:58:29.075766Z",
     "iopub.status.busy": "2022-02-01T05:58:29.074912Z",
     "iopub.status.idle": "2022-02-01T05:58:32.189462Z",
     "shell.execute_reply": "2022-02-01T05:58:32.188651Z"
    },
    "papermill": {
     "duration": 3.178235,
     "end_time": "2022-02-01T05:58:32.189713",
     "exception": false,
     "start_time": "2022-02-01T05:58:29.011478",
     "status": "completed"
    },
    "tags": []
   },
   "outputs": [
    {
     "name": "stdout",
     "output_type": "stream",
     "text": [
      "Requirement already satisfied: autoxgb in c:\\users\\ms\\anaconda3\\lib\\site-packages (0.2.2)\n"
     ]
    }
   ],
   "source": [
    "! pip install --no-deps autoxgb"
   ]
  },
  {
   "cell_type": "code",
   "execution_count": null,
   "id": "cd53f11b",
   "metadata": {},
   "outputs": [],
   "source": [
    "\n"
   ]
  },
  {
   "cell_type": "code",
   "execution_count": 4,
   "id": "c2045c67",
   "metadata": {},
   "outputs": [
    {
     "name": "stdout",
     "output_type": "stream",
     "text": [
      "Requirement already satisfied: numpy in c:\\users\\ms\\anaconda3\\lib\\site-packages (1.26.4)\n",
      "Requirement already satisfied: scipy in c:\\users\\ms\\anaconda3\\lib\\site-packages (1.13.0)\n"
     ]
    }
   ],
   "source": [
    "!pip install --upgrade numpy scipy\n"
   ]
  },
  {
   "cell_type": "code",
   "execution_count": 6,
   "id": "158ef099",
   "metadata": {},
   "outputs": [
    {
     "name": "stdout",
     "output_type": "stream",
     "text": [
      "Collecting optuna\n",
      "  Downloading optuna-3.6.1-py3-none-any.whl (380 kB)\n",
      "     ------------------------------------ 380.1/380.1 kB 739.7 kB/s eta 0:00:00\n",
      "Requirement already satisfied: sqlalchemy>=1.3.0 in c:\\users\\ms\\anaconda3\\lib\\site-packages (from optuna) (1.4.39)\n",
      "Collecting alembic>=1.5.0\n",
      "  Downloading alembic-1.13.1-py3-none-any.whl (233 kB)\n",
      "     ------------------------------------ 233.4/233.4 kB 751.5 kB/s eta 0:00:00\n",
      "Requirement already satisfied: packaging>=20.0 in c:\\users\\ms\\anaconda3\\lib\\site-packages (from optuna) (23.2)\n",
      "Requirement already satisfied: numpy in c:\\users\\ms\\anaconda3\\lib\\site-packages (from optuna) (1.26.4)\n",
      "Collecting colorlog\n",
      "  Downloading colorlog-6.8.2-py3-none-any.whl (11 kB)\n",
      "Requirement already satisfied: tqdm in c:\\users\\ms\\anaconda3\\lib\\site-packages (from optuna) (4.64.1)\n",
      "Requirement already satisfied: PyYAML in c:\\users\\ms\\anaconda3\\lib\\site-packages (from optuna) (6.0)\n",
      "Collecting Mako\n",
      "  Downloading Mako-1.3.3-py3-none-any.whl (78 kB)\n",
      "     -------------------------------------- 78.8/78.8 kB 868.2 kB/s eta 0:00:00\n",
      "Requirement already satisfied: typing-extensions>=4 in c:\\users\\ms\\anaconda3\\lib\\site-packages (from alembic>=1.5.0->optuna) (4.10.0)\n",
      "Requirement already satisfied: greenlet!=0.4.17 in c:\\users\\ms\\anaconda3\\lib\\site-packages (from sqlalchemy>=1.3.0->optuna) (1.1.1)\n",
      "Requirement already satisfied: colorama in c:\\users\\ms\\anaconda3\\lib\\site-packages (from colorlog->optuna) (0.4.5)\n",
      "Requirement already satisfied: MarkupSafe>=0.9.2 in c:\\users\\ms\\anaconda3\\lib\\site-packages (from Mako->alembic>=1.5.0->optuna) (2.0.1)\n",
      "Installing collected packages: Mako, colorlog, alembic, optuna\n",
      "Successfully installed Mako-1.3.3 alembic-1.13.1 colorlog-6.8.2 optuna-3.6.1\n"
     ]
    },
    {
     "name": "stderr",
     "output_type": "stream",
     "text": [
      "ERROR: pip's dependency resolver does not currently take into account all the packages that are installed. This behaviour is the source of the following dependency conflicts.\n",
      "autoxgb 0.2.2 requires fastapi==0.70.0, which is not installed.\n",
      "autoxgb 0.2.2 requires loguru==0.5.3, which is not installed.\n",
      "autoxgb 0.2.2 requires uvicorn==0.15.0, which is not installed.\n",
      "autoxgb 0.2.2 requires numpy==1.21.3, but you have numpy 1.26.4 which is incompatible.\n",
      "autoxgb 0.2.2 requires optuna==2.10.0, but you have optuna 3.6.1 which is incompatible.\n",
      "autoxgb 0.2.2 requires pandas==1.3.4, but you have pandas 1.4.4 which is incompatible.\n",
      "autoxgb 0.2.2 requires pyarrow==6.0.0, but you have pyarrow 15.0.0 which is incompatible.\n",
      "autoxgb 0.2.2 requires pydantic==1.8.2, but you have pydantic 2.5.2 which is incompatible.\n",
      "autoxgb 0.2.2 requires scikit-learn==1.0.1, but you have scikit-learn 1.0.2 which is incompatible.\n",
      "autoxgb 0.2.2 requires xgboost==1.5.0, but you have xgboost 2.0.3 which is incompatible.\n"
     ]
    }
   ],
   "source": [
    "!pip install optuna\n"
   ]
  },
  {
   "cell_type": "code",
   "execution_count": 7,
   "id": "49ba9a77",
   "metadata": {
    "execution": {
     "iopub.execute_input": "2022-02-01T05:58:32.325200Z",
     "iopub.status.busy": "2022-02-01T05:58:32.324163Z",
     "iopub.status.idle": "2022-02-01T05:58:33.766851Z",
     "shell.execute_reply": "2022-02-01T05:58:33.765886Z"
    },
    "papermill": {
     "duration": 1.512163,
     "end_time": "2022-02-01T05:58:33.767002",
     "exception": false,
     "start_time": "2022-02-01T05:58:32.254839",
     "status": "completed"
    },
    "tags": []
   },
   "outputs": [],
   "source": [
    "from autoxgb import AutoXGB"
   ]
  },
  {
   "cell_type": "code",
   "execution_count": 8,
   "id": "80478157",
   "metadata": {
    "execution": {
     "iopub.execute_input": "2022-02-01T05:58:33.899115Z",
     "iopub.status.busy": "2022-02-01T05:58:33.898037Z",
     "iopub.status.idle": "2022-02-01T05:58:33.901055Z",
     "shell.execute_reply": "2022-02-01T05:58:33.900535Z"
    },
    "papermill": {
     "duration": 0.07053,
     "end_time": "2022-02-01T05:58:33.901202",
     "exception": false,
     "start_time": "2022-02-01T05:58:33.830672",
     "status": "completed"
    },
    "tags": []
   },
   "outputs": [],
   "source": [
    "train_filename = \"train.csv\"\n",
    "test_filename = \"test.csv\""
   ]
  },
  {
   "cell_type": "code",
   "execution_count": 9,
   "id": "ce5921d0",
   "metadata": {
    "execution": {
     "iopub.execute_input": "2022-02-01T05:58:34.029394Z",
     "iopub.status.busy": "2022-02-01T05:58:34.027851Z",
     "iopub.status.idle": "2022-02-01T05:58:34.030547Z",
     "shell.execute_reply": "2022-02-01T05:58:34.031344Z"
    },
    "papermill": {
     "duration": 0.069714,
     "end_time": "2022-02-01T05:58:34.031499",
     "exception": false,
     "start_time": "2022-02-01T05:58:33.961785",
     "status": "completed"
    },
    "tags": []
   },
   "outputs": [],
   "source": [
    "output = 'autoxgb'\n",
    "targets = ['Clearsky DHI', 'Clearsky DNI', 'Clearsky GHI']\n",
    "task = 'regression'"
   ]
  },
  {
   "cell_type": "code",
   "execution_count": 10,
   "id": "d202d1d4",
   "metadata": {
    "execution": {
     "iopub.execute_input": "2022-02-01T05:58:34.197041Z",
     "iopub.status.busy": "2022-02-01T05:58:34.195859Z",
     "iopub.status.idle": "2022-02-01T05:58:34.204515Z",
     "shell.execute_reply": "2022-02-01T05:58:34.205118Z"
    },
    "papermill": {
     "duration": 0.111392,
     "end_time": "2022-02-01T05:58:34.205671",
     "exception": false,
     "start_time": "2022-02-01T05:58:34.094279",
     "status": "completed"
    },
    "tags": []
   },
   "outputs": [],
   "source": [
    "use_gpu = True\n",
    "num_folds = 5\n",
    "seed = 42\n",
    "num_trials = 100\n",
    "time_limit = 5*60\n",
    "fast = False"
   ]
  },
  {
   "cell_type": "code",
   "execution_count": 18,
   "id": "5d2507fb",
   "metadata": {},
   "outputs": [],
   "source": [
    "from sklearn.metrics import accuracy_score, precision_score\n"
   ]
  },
  {
   "cell_type": "code",
   "execution_count": 11,
   "id": "c6e2ba9c",
   "metadata": {
    "execution": {
     "iopub.execute_input": "2022-02-01T05:58:34.336573Z",
     "iopub.status.busy": "2022-02-01T05:58:34.335657Z",
     "iopub.status.idle": "2022-02-01T05:58:34.339600Z",
     "shell.execute_reply": "2022-02-01T05:58:34.340163Z"
    },
    "papermill": {
     "duration": 0.073135,
     "end_time": "2022-02-01T05:58:34.340311",
     "exception": false,
     "start_time": "2022-02-01T05:58:34.267176",
     "status": "completed"
    },
    "tags": []
   },
   "outputs": [
    {
     "name": "stderr",
     "output_type": "stream",
     "text": [
      "2024-04-13 22:08:15,621 INFO Output directory: autoxgb\n"
     ]
    }
   ],
   "source": [
    "model = AutoXGB(\n",
    "    train_filename=train_filename,\n",
    "    output=output,\n",
    "    test_filename=test_filename,\n",
    "    task=task,\n",
    "    targets=targets,\n",
    "    use_gpu=use_gpu,\n",
    "    num_folds=num_folds,\n",
    "    seed=seed,\n",
    "    num_trials=num_trials,\n",
    "    time_limit=time_limit,\n",
    "    fast=fast)"
   ]
  },
  {
   "cell_type": "code",
   "execution_count": 12,
   "id": "b4b6a185",
   "metadata": {
    "execution": {
     "iopub.execute_input": "2022-02-01T05:58:34.470421Z",
     "iopub.status.busy": "2022-02-01T05:58:34.469413Z",
     "iopub.status.idle": "2022-02-01T06:17:46.981353Z",
     "shell.execute_reply": "2022-02-01T06:17:46.980279Z"
    },
    "papermill": {
     "duration": 1152.578901,
     "end_time": "2022-02-01T06:17:46.981519",
     "exception": false,
     "start_time": "2022-02-01T05:58:34.402618",
     "status": "completed"
    },
    "tags": []
   },
   "outputs": [
    {
     "name": "stderr",
     "output_type": "stream",
     "text": [
      "2024-04-13 22:08:18,983 INFO Reading training data\n",
      "2024-04-13 22:08:19,309 INFO Mem. usage decreased to 5.02 Mb (79.2% reduction)\n",
      "2024-04-13 22:08:19,310 INFO Problem type: multi_column_regression\n",
      "2024-04-13 22:08:19,394 INFO Mem. usage decreased to 0.80 Mb (66.7% reduction)\n",
      "2024-04-13 22:08:19,396 INFO Creating folds\n",
      "2024-04-13 22:08:19,471 INFO Found 0 categorical features.\n",
      "2024-04-13 22:08:19,843 INFO Model config: train_filename='train.csv' test_filename='test.csv' idx='id' targets=['Clearsky DHI', 'Clearsky DNI', 'Clearsky GHI'] problem_type=<ProblemType.multi_column_regression: 5> output='autoxgb' features=['Year', 'Month', 'Day', 'Hour', 'Minute', 'Cloud Type', 'Dew Point', 'Temperature', 'Pressure', 'Relative Humidity', 'Solar Zenith Angle', 'Precipitable Water', 'Wind Direction', 'Wind Speed', 'Fill Flag'] num_folds=5 use_gpu=True seed=42 categorical_features=[] num_trials=100 time_limit=300 fast=False\n",
      "2024-04-13 22:08:19,844 INFO Saving model config\n",
      "2024-04-13 22:08:19,846 INFO Saving encoders\n",
      "[I 2024-04-13 22:08:20,750] A new study created in RDB with name: autoxgb\n",
      "C:\\Users\\MS\\anaconda3\\lib\\site-packages\\autoxgb\\params.py:4: FutureWarning: suggest_loguniform has been deprecated in v3.0.0. This feature will be removed in v6.0.0. See https://github.com/optuna/optuna/releases/tag/v3.0.0. Use suggest_float(..., log=True) instead.\n",
      "  \"reg_lambda\": trial.suggest_loguniform(\"reg_lambda\", 1e-8, 100.0),\n",
      "C:\\Users\\MS\\anaconda3\\lib\\site-packages\\autoxgb\\params.py:5: FutureWarning: suggest_loguniform has been deprecated in v3.0.0. This feature will be removed in v6.0.0. See https://github.com/optuna/optuna/releases/tag/v3.0.0. Use suggest_float(..., log=True) instead.\n",
      "  \"reg_alpha\": trial.suggest_loguniform(\"reg_alpha\", 1e-8, 100.0),\n",
      "C:\\Users\\MS\\anaconda3\\lib\\site-packages\\xgboost\\sklearn.py:889: UserWarning: `early_stopping_rounds` in `fit` method is deprecated for better compatibility with scikit-learn, use `early_stopping_rounds` in constructor or`set_params` instead.\n",
      "  warnings.warn(\n",
      "C:\\Users\\MS\\anaconda3\\lib\\site-packages\\xgboost\\core.py:160: UserWarning: [22:08:22] WARNING: C:\\buildkite-agent\\builds\\buildkite-windows-cpu-autoscaling-group-i-0b3782d1791676daf-1\\xgboost\\xgboost-ci-windows\\src\\common\\error_msg.cc:45: `gpu_id` is deprecated since2.0.0, use `device` instead. E.g. device=cpu/cuda/cuda:0\n",
      "  warnings.warn(smsg, UserWarning)\n",
      "C:\\Users\\MS\\anaconda3\\lib\\site-packages\\xgboost\\core.py:160: UserWarning: [22:08:22] WARNING: C:\\buildkite-agent\\builds\\buildkite-windows-cpu-autoscaling-group-i-0b3782d1791676daf-1\\xgboost\\xgboost-ci-windows\\src\\common\\error_msg.cc:27: The tree method `gpu_hist` is deprecated since 2.0.0. To use GPU training, set the `device` parameter to CUDA instead.\n",
      "\n",
      "    E.g. tree_method = \"hist\", device = \"cuda\"\n",
      "\n",
      "  warnings.warn(smsg, UserWarning)\n",
      "C:\\Users\\MS\\anaconda3\\lib\\site-packages\\xgboost\\core.py:160: UserWarning: [22:08:22] WARNING: C:\\buildkite-agent\\builds\\buildkite-windows-cpu-autoscaling-group-i-0b3782d1791676daf-1\\xgboost\\xgboost-ci-windows\\src\\learner.cc:742: \n",
      "Parameters: { \"predictor\" } are not used.\n",
      "\n",
      "  warnings.warn(smsg, UserWarning)\n",
      "C:\\Users\\MS\\anaconda3\\lib\\site-packages\\xgboost\\core.py:160: UserWarning: [22:08:53] WARNING: C:\\buildkite-agent\\builds\\buildkite-windows-cpu-autoscaling-group-i-0b3782d1791676daf-1\\xgboost\\xgboost-ci-windows\\src\\common\\error_msg.cc:27: The tree method `gpu_hist` is deprecated since 2.0.0. To use GPU training, set the `device` parameter to CUDA instead.\n",
      "\n",
      "    E.g. tree_method = \"hist\", device = \"cuda\"\n",
      "\n",
      "  warnings.warn(smsg, UserWarning)\n",
      "C:\\Users\\MS\\anaconda3\\lib\\site-packages\\xgboost\\core.py:160: UserWarning: [22:08:53] WARNING: C:\\buildkite-agent\\builds\\buildkite-windows-cpu-autoscaling-group-i-0b3782d1791676daf-1\\xgboost\\xgboost-ci-windows\\src\\common\\error_msg.cc:58: Falling back to prediction using DMatrix due to mismatched devices. This might lead to higher memory usage and slower performance. XGBoost is running on: cuda:0, while the input data is on: cpu.\n",
      "Potential solutions:\n",
      "- Use a data structure that matches the device ordinal in the booster.\n",
      "- Set the device for booster before call to inplace_predict.\n",
      "\n",
      "This warning will only be shown once.\n",
      "\n",
      "  warnings.warn(smsg, UserWarning)\n",
      "C:\\Users\\MS\\anaconda3\\lib\\site-packages\\xgboost\\core.py:160: UserWarning: [22:08:53] WARNING: C:\\buildkite-agent\\builds\\buildkite-windows-cpu-autoscaling-group-i-0b3782d1791676daf-1\\xgboost\\xgboost-ci-windows\\src\\learner.cc:742: \n",
      "Parameters: { \"predictor\" } are not used.\n",
      "\n",
      "  warnings.warn(smsg, UserWarning)\n",
      "C:\\Users\\MS\\anaconda3\\lib\\site-packages\\xgboost\\core.py:160: UserWarning: [22:09:25] WARNING: C:\\buildkite-agent\\builds\\buildkite-windows-cpu-autoscaling-group-i-0b3782d1791676daf-1\\xgboost\\xgboost-ci-windows\\src\\common\\error_msg.cc:27: The tree method `gpu_hist` is deprecated since 2.0.0. To use GPU training, set the `device` parameter to CUDA instead.\n",
      "\n",
      "    E.g. tree_method = \"hist\", device = \"cuda\"\n",
      "\n",
      "  warnings.warn(smsg, UserWarning)\n",
      "C:\\Users\\MS\\anaconda3\\lib\\site-packages\\xgboost\\core.py:160: UserWarning: [22:09:25] WARNING: C:\\buildkite-agent\\builds\\buildkite-windows-cpu-autoscaling-group-i-0b3782d1791676daf-1\\xgboost\\xgboost-ci-windows\\src\\learner.cc:742: \n",
      "Parameters: { \"predictor\" } are not used.\n",
      "\n",
      "  warnings.warn(smsg, UserWarning)\n",
      "C:\\Users\\MS\\anaconda3\\lib\\site-packages\\xgboost\\core.py:160: UserWarning: [22:09:57] WARNING: C:\\buildkite-agent\\builds\\buildkite-windows-cpu-autoscaling-group-i-0b3782d1791676daf-1\\xgboost\\xgboost-ci-windows\\src\\common\\error_msg.cc:27: The tree method `gpu_hist` is deprecated since 2.0.0. To use GPU training, set the `device` parameter to CUDA instead.\n",
      "\n",
      "    E.g. tree_method = \"hist\", device = \"cuda\"\n",
      "\n",
      "  warnings.warn(smsg, UserWarning)\n",
      "C:\\Users\\MS\\anaconda3\\lib\\site-packages\\xgboost\\sklearn.py:889: UserWarning: `early_stopping_rounds` in `fit` method is deprecated for better compatibility with scikit-learn, use `early_stopping_rounds` in constructor or`set_params` instead.\n",
      "  warnings.warn(\n",
      "C:\\Users\\MS\\anaconda3\\lib\\site-packages\\xgboost\\core.py:160: UserWarning: [22:09:58] WARNING: C:\\buildkite-agent\\builds\\buildkite-windows-cpu-autoscaling-group-i-0b3782d1791676daf-1\\xgboost\\xgboost-ci-windows\\src\\common\\error_msg.cc:27: The tree method `gpu_hist` is deprecated since 2.0.0. To use GPU training, set the `device` parameter to CUDA instead.\n",
      "\n",
      "    E.g. tree_method = \"hist\", device = \"cuda\"\n",
      "\n",
      "  warnings.warn(smsg, UserWarning)\n",
      "C:\\Users\\MS\\anaconda3\\lib\\site-packages\\xgboost\\core.py:160: UserWarning: [22:09:58] WARNING: C:\\buildkite-agent\\builds\\buildkite-windows-cpu-autoscaling-group-i-0b3782d1791676daf-1\\xgboost\\xgboost-ci-windows\\src\\learner.cc:742: \n",
      "Parameters: { \"predictor\" } are not used.\n",
      "\n",
      "  warnings.warn(smsg, UserWarning)\n",
      "C:\\Users\\MS\\anaconda3\\lib\\site-packages\\xgboost\\core.py:160: UserWarning: [22:10:29] WARNING: C:\\buildkite-agent\\builds\\buildkite-windows-cpu-autoscaling-group-i-0b3782d1791676daf-1\\xgboost\\xgboost-ci-windows\\src\\common\\error_msg.cc:27: The tree method `gpu_hist` is deprecated since 2.0.0. To use GPU training, set the `device` parameter to CUDA instead.\n",
      "\n",
      "    E.g. tree_method = \"hist\", device = \"cuda\"\n",
      "\n",
      "  warnings.warn(smsg, UserWarning)\n",
      "C:\\Users\\MS\\anaconda3\\lib\\site-packages\\xgboost\\core.py:160: UserWarning: [22:10:29] WARNING: C:\\buildkite-agent\\builds\\buildkite-windows-cpu-autoscaling-group-i-0b3782d1791676daf-1\\xgboost\\xgboost-ci-windows\\src\\learner.cc:742: \n",
      "Parameters: { \"predictor\" } are not used.\n",
      "\n",
      "  warnings.warn(smsg, UserWarning)\n",
      "C:\\Users\\MS\\anaconda3\\lib\\site-packages\\xgboost\\core.py:160: UserWarning: [22:11:00] WARNING: C:\\buildkite-agent\\builds\\buildkite-windows-cpu-autoscaling-group-i-0b3782d1791676daf-1\\xgboost\\xgboost-ci-windows\\src\\common\\error_msg.cc:27: The tree method `gpu_hist` is deprecated since 2.0.0. To use GPU training, set the `device` parameter to CUDA instead.\n",
      "\n",
      "    E.g. tree_method = \"hist\", device = \"cuda\"\n",
      "\n",
      "  warnings.warn(smsg, UserWarning)\n",
      "C:\\Users\\MS\\anaconda3\\lib\\site-packages\\xgboost\\core.py:160: UserWarning: [22:11:00] WARNING: C:\\buildkite-agent\\builds\\buildkite-windows-cpu-autoscaling-group-i-0b3782d1791676daf-1\\xgboost\\xgboost-ci-windows\\src\\learner.cc:742: \n",
      "Parameters: { \"predictor\" } are not used.\n",
      "\n",
      "  warnings.warn(smsg, UserWarning)\n"
     ]
    },
    {
     "name": "stderr",
     "output_type": "stream",
     "text": [
      "C:\\Users\\MS\\anaconda3\\lib\\site-packages\\xgboost\\core.py:160: UserWarning: [22:11:31] WARNING: C:\\buildkite-agent\\builds\\buildkite-windows-cpu-autoscaling-group-i-0b3782d1791676daf-1\\xgboost\\xgboost-ci-windows\\src\\common\\error_msg.cc:27: The tree method `gpu_hist` is deprecated since 2.0.0. To use GPU training, set the `device` parameter to CUDA instead.\n",
      "\n",
      "    E.g. tree_method = \"hist\", device = \"cuda\"\n",
      "\n",
      "  warnings.warn(smsg, UserWarning)\n",
      "C:\\Users\\MS\\anaconda3\\lib\\site-packages\\xgboost\\sklearn.py:889: UserWarning: `early_stopping_rounds` in `fit` method is deprecated for better compatibility with scikit-learn, use `early_stopping_rounds` in constructor or`set_params` instead.\n",
      "  warnings.warn(\n",
      "C:\\Users\\MS\\anaconda3\\lib\\site-packages\\xgboost\\core.py:160: UserWarning: [22:11:31] WARNING: C:\\buildkite-agent\\builds\\buildkite-windows-cpu-autoscaling-group-i-0b3782d1791676daf-1\\xgboost\\xgboost-ci-windows\\src\\common\\error_msg.cc:27: The tree method `gpu_hist` is deprecated since 2.0.0. To use GPU training, set the `device` parameter to CUDA instead.\n",
      "\n",
      "    E.g. tree_method = \"hist\", device = \"cuda\"\n",
      "\n",
      "  warnings.warn(smsg, UserWarning)\n",
      "C:\\Users\\MS\\anaconda3\\lib\\site-packages\\xgboost\\core.py:160: UserWarning: [22:11:31] WARNING: C:\\buildkite-agent\\builds\\buildkite-windows-cpu-autoscaling-group-i-0b3782d1791676daf-1\\xgboost\\xgboost-ci-windows\\src\\learner.cc:742: \n",
      "Parameters: { \"predictor\" } are not used.\n",
      "\n",
      "  warnings.warn(smsg, UserWarning)\n",
      "C:\\Users\\MS\\anaconda3\\lib\\site-packages\\xgboost\\core.py:160: UserWarning: [22:12:02] WARNING: C:\\buildkite-agent\\builds\\buildkite-windows-cpu-autoscaling-group-i-0b3782d1791676daf-1\\xgboost\\xgboost-ci-windows\\src\\common\\error_msg.cc:27: The tree method `gpu_hist` is deprecated since 2.0.0. To use GPU training, set the `device` parameter to CUDA instead.\n",
      "\n",
      "    E.g. tree_method = \"hist\", device = \"cuda\"\n",
      "\n",
      "  warnings.warn(smsg, UserWarning)\n",
      "C:\\Users\\MS\\anaconda3\\lib\\site-packages\\xgboost\\core.py:160: UserWarning: [22:12:02] WARNING: C:\\buildkite-agent\\builds\\buildkite-windows-cpu-autoscaling-group-i-0b3782d1791676daf-1\\xgboost\\xgboost-ci-windows\\src\\learner.cc:742: \n",
      "Parameters: { \"predictor\" } are not used.\n",
      "\n",
      "  warnings.warn(smsg, UserWarning)\n",
      "C:\\Users\\MS\\anaconda3\\lib\\site-packages\\xgboost\\core.py:160: UserWarning: [22:12:38] WARNING: C:\\buildkite-agent\\builds\\buildkite-windows-cpu-autoscaling-group-i-0b3782d1791676daf-1\\xgboost\\xgboost-ci-windows\\src\\common\\error_msg.cc:27: The tree method `gpu_hist` is deprecated since 2.0.0. To use GPU training, set the `device` parameter to CUDA instead.\n",
      "\n",
      "    E.g. tree_method = \"hist\", device = \"cuda\"\n",
      "\n",
      "  warnings.warn(smsg, UserWarning)\n",
      "C:\\Users\\MS\\anaconda3\\lib\\site-packages\\xgboost\\core.py:160: UserWarning: [22:12:38] WARNING: C:\\buildkite-agent\\builds\\buildkite-windows-cpu-autoscaling-group-i-0b3782d1791676daf-1\\xgboost\\xgboost-ci-windows\\src\\learner.cc:742: \n",
      "Parameters: { \"predictor\" } are not used.\n",
      "\n",
      "  warnings.warn(smsg, UserWarning)\n",
      "C:\\Users\\MS\\anaconda3\\lib\\site-packages\\xgboost\\core.py:160: UserWarning: [22:13:15] WARNING: C:\\buildkite-agent\\builds\\buildkite-windows-cpu-autoscaling-group-i-0b3782d1791676daf-1\\xgboost\\xgboost-ci-windows\\src\\common\\error_msg.cc:27: The tree method `gpu_hist` is deprecated since 2.0.0. To use GPU training, set the `device` parameter to CUDA instead.\n",
      "\n",
      "    E.g. tree_method = \"hist\", device = \"cuda\"\n",
      "\n",
      "  warnings.warn(smsg, UserWarning)\n",
      "C:\\Users\\MS\\anaconda3\\lib\\site-packages\\xgboost\\sklearn.py:889: UserWarning: `early_stopping_rounds` in `fit` method is deprecated for better compatibility with scikit-learn, use `early_stopping_rounds` in constructor or`set_params` instead.\n",
      "  warnings.warn(\n",
      "C:\\Users\\MS\\anaconda3\\lib\\site-packages\\xgboost\\core.py:160: UserWarning: [22:13:15] WARNING: C:\\buildkite-agent\\builds\\buildkite-windows-cpu-autoscaling-group-i-0b3782d1791676daf-1\\xgboost\\xgboost-ci-windows\\src\\common\\error_msg.cc:27: The tree method `gpu_hist` is deprecated since 2.0.0. To use GPU training, set the `device` parameter to CUDA instead.\n",
      "\n",
      "    E.g. tree_method = \"hist\", device = \"cuda\"\n",
      "\n",
      "  warnings.warn(smsg, UserWarning)\n",
      "C:\\Users\\MS\\anaconda3\\lib\\site-packages\\xgboost\\core.py:160: UserWarning: [22:13:15] WARNING: C:\\buildkite-agent\\builds\\buildkite-windows-cpu-autoscaling-group-i-0b3782d1791676daf-1\\xgboost\\xgboost-ci-windows\\src\\learner.cc:742: \n",
      "Parameters: { \"predictor\" } are not used.\n",
      "\n",
      "  warnings.warn(smsg, UserWarning)\n",
      "C:\\Users\\MS\\anaconda3\\lib\\site-packages\\xgboost\\core.py:160: UserWarning: [22:13:51] WARNING: C:\\buildkite-agent\\builds\\buildkite-windows-cpu-autoscaling-group-i-0b3782d1791676daf-1\\xgboost\\xgboost-ci-windows\\src\\common\\error_msg.cc:27: The tree method `gpu_hist` is deprecated since 2.0.0. To use GPU training, set the `device` parameter to CUDA instead.\n",
      "\n",
      "    E.g. tree_method = \"hist\", device = \"cuda\"\n",
      "\n",
      "  warnings.warn(smsg, UserWarning)\n",
      "C:\\Users\\MS\\anaconda3\\lib\\site-packages\\xgboost\\core.py:160: UserWarning: [22:13:51] WARNING: C:\\buildkite-agent\\builds\\buildkite-windows-cpu-autoscaling-group-i-0b3782d1791676daf-1\\xgboost\\xgboost-ci-windows\\src\\learner.cc:742: \n",
      "Parameters: { \"predictor\" } are not used.\n",
      "\n",
      "  warnings.warn(smsg, UserWarning)\n",
      "C:\\Users\\MS\\anaconda3\\lib\\site-packages\\xgboost\\core.py:160: UserWarning: [22:14:28] WARNING: C:\\buildkite-agent\\builds\\buildkite-windows-cpu-autoscaling-group-i-0b3782d1791676daf-1\\xgboost\\xgboost-ci-windows\\src\\common\\error_msg.cc:27: The tree method `gpu_hist` is deprecated since 2.0.0. To use GPU training, set the `device` parameter to CUDA instead.\n",
      "\n",
      "    E.g. tree_method = \"hist\", device = \"cuda\"\n",
      "\n",
      "  warnings.warn(smsg, UserWarning)\n",
      "C:\\Users\\MS\\anaconda3\\lib\\site-packages\\xgboost\\core.py:160: UserWarning: [22:14:28] WARNING: C:\\buildkite-agent\\builds\\buildkite-windows-cpu-autoscaling-group-i-0b3782d1791676daf-1\\xgboost\\xgboost-ci-windows\\src\\learner.cc:742: \n",
      "Parameters: { \"predictor\" } are not used.\n",
      "\n",
      "  warnings.warn(smsg, UserWarning)\n",
      "C:\\Users\\MS\\anaconda3\\lib\\site-packages\\xgboost\\core.py:160: UserWarning: [22:15:03] WARNING: C:\\buildkite-agent\\builds\\buildkite-windows-cpu-autoscaling-group-i-0b3782d1791676daf-1\\xgboost\\xgboost-ci-windows\\src\\common\\error_msg.cc:27: The tree method `gpu_hist` is deprecated since 2.0.0. To use GPU training, set the `device` parameter to CUDA instead.\n",
      "\n",
      "    E.g. tree_method = \"hist\", device = \"cuda\"\n",
      "\n",
      "  warnings.warn(smsg, UserWarning)\n",
      "C:\\Users\\MS\\anaconda3\\lib\\site-packages\\xgboost\\sklearn.py:889: UserWarning: `early_stopping_rounds` in `fit` method is deprecated for better compatibility with scikit-learn, use `early_stopping_rounds` in constructor or`set_params` instead.\n",
      "  warnings.warn(\n",
      "C:\\Users\\MS\\anaconda3\\lib\\site-packages\\xgboost\\core.py:160: UserWarning: [22:15:04] WARNING: C:\\buildkite-agent\\builds\\buildkite-windows-cpu-autoscaling-group-i-0b3782d1791676daf-1\\xgboost\\xgboost-ci-windows\\src\\common\\error_msg.cc:27: The tree method `gpu_hist` is deprecated since 2.0.0. To use GPU training, set the `device` parameter to CUDA instead.\n",
      "\n",
      "    E.g. tree_method = \"hist\", device = \"cuda\"\n",
      "\n",
      "  warnings.warn(smsg, UserWarning)\n",
      "C:\\Users\\MS\\anaconda3\\lib\\site-packages\\xgboost\\core.py:160: UserWarning: [22:15:04] WARNING: C:\\buildkite-agent\\builds\\buildkite-windows-cpu-autoscaling-group-i-0b3782d1791676daf-1\\xgboost\\xgboost-ci-windows\\src\\learner.cc:742: \n",
      "Parameters: { \"predictor\" } are not used.\n",
      "\n",
      "  warnings.warn(smsg, UserWarning)\n",
      "C:\\Users\\MS\\anaconda3\\lib\\site-packages\\xgboost\\core.py:160: UserWarning: [22:15:38] WARNING: C:\\buildkite-agent\\builds\\buildkite-windows-cpu-autoscaling-group-i-0b3782d1791676daf-1\\xgboost\\xgboost-ci-windows\\src\\common\\error_msg.cc:27: The tree method `gpu_hist` is deprecated since 2.0.0. To use GPU training, set the `device` parameter to CUDA instead.\n",
      "\n",
      "    E.g. tree_method = \"hist\", device = \"cuda\"\n",
      "\n",
      "  warnings.warn(smsg, UserWarning)\n",
      "C:\\Users\\MS\\anaconda3\\lib\\site-packages\\xgboost\\core.py:160: UserWarning: [22:15:38] WARNING: C:\\buildkite-agent\\builds\\buildkite-windows-cpu-autoscaling-group-i-0b3782d1791676daf-1\\xgboost\\xgboost-ci-windows\\src\\learner.cc:742: \n",
      "Parameters: { \"predictor\" } are not used.\n",
      "\n",
      "  warnings.warn(smsg, UserWarning)\n",
      "C:\\Users\\MS\\anaconda3\\lib\\site-packages\\xgboost\\core.py:160: UserWarning: [22:16:13] WARNING: C:\\buildkite-agent\\builds\\buildkite-windows-cpu-autoscaling-group-i-0b3782d1791676daf-1\\xgboost\\xgboost-ci-windows\\src\\common\\error_msg.cc:27: The tree method `gpu_hist` is deprecated since 2.0.0. To use GPU training, set the `device` parameter to CUDA instead.\n",
      "\n",
      "    E.g. tree_method = \"hist\", device = \"cuda\"\n",
      "\n",
      "  warnings.warn(smsg, UserWarning)\n"
     ]
    },
    {
     "name": "stderr",
     "output_type": "stream",
     "text": [
      "C:\\Users\\MS\\anaconda3\\lib\\site-packages\\xgboost\\core.py:160: UserWarning: [22:16:13] WARNING: C:\\buildkite-agent\\builds\\buildkite-windows-cpu-autoscaling-group-i-0b3782d1791676daf-1\\xgboost\\xgboost-ci-windows\\src\\learner.cc:742: \n",
      "Parameters: { \"predictor\" } are not used.\n",
      "\n",
      "  warnings.warn(smsg, UserWarning)\n",
      "C:\\Users\\MS\\anaconda3\\lib\\site-packages\\xgboost\\core.py:160: UserWarning: [22:16:49] WARNING: C:\\buildkite-agent\\builds\\buildkite-windows-cpu-autoscaling-group-i-0b3782d1791676daf-1\\xgboost\\xgboost-ci-windows\\src\\common\\error_msg.cc:27: The tree method `gpu_hist` is deprecated since 2.0.0. To use GPU training, set the `device` parameter to CUDA instead.\n",
      "\n",
      "    E.g. tree_method = \"hist\", device = \"cuda\"\n",
      "\n",
      "  warnings.warn(smsg, UserWarning)\n",
      "2024-04-13 22:16:49,742 INFO Metrics: {'r2': 0.9906599047793858, 'mse': 261.8648986816406, 'mae': 7.598938083648681, 'rmse': 13.32809658050537}\n",
      "[I 2024-04-13 22:16:49,834] Trial 0 finished with value: 13.32809658050537 and parameters: {'learning_rate': 0.09720532752638499, 'reg_lambda': 0.0001364368560457348, 'reg_alpha': 0.09214055728987296, 'subsample': 0.7667196246673046, 'colsample_bytree': 0.7378533165624658, 'max_depth': 4, 'early_stopping_rounds': 483, 'n_estimators': 7000}. Best is trial 0 with value: 13.32809658050537.\n",
      "2024-04-13 22:16:49,850 INFO Training complete\n",
      "2024-04-13 22:16:49,851 INFO Creating OOF and test predictions\n",
      "2024-04-13 22:16:49,852 INFO Training and predicting for fold 0\n",
      "C:\\Users\\MS\\anaconda3\\lib\\site-packages\\xgboost\\sklearn.py:889: UserWarning: `early_stopping_rounds` in `fit` method is deprecated for better compatibility with scikit-learn, use `early_stopping_rounds` in constructor or`set_params` instead.\n",
      "  warnings.warn(\n",
      "C:\\Users\\MS\\anaconda3\\lib\\site-packages\\xgboost\\core.py:160: UserWarning: [22:16:50] WARNING: C:\\buildkite-agent\\builds\\buildkite-windows-cpu-autoscaling-group-i-0b3782d1791676daf-1\\xgboost\\xgboost-ci-windows\\src\\common\\error_msg.cc:27: The tree method `gpu_hist` is deprecated since 2.0.0. To use GPU training, set the `device` parameter to CUDA instead.\n",
      "\n",
      "    E.g. tree_method = \"hist\", device = \"cuda\"\n",
      "\n",
      "  warnings.warn(smsg, UserWarning)\n",
      "C:\\Users\\MS\\anaconda3\\lib\\site-packages\\xgboost\\core.py:160: UserWarning: [22:16:50] WARNING: C:\\buildkite-agent\\builds\\buildkite-windows-cpu-autoscaling-group-i-0b3782d1791676daf-1\\xgboost\\xgboost-ci-windows\\src\\learner.cc:742: \n",
      "Parameters: { \"predictor\" } are not used.\n",
      "\n",
      "  warnings.warn(smsg, UserWarning)\n",
      "C:\\Users\\MS\\anaconda3\\lib\\site-packages\\xgboost\\core.py:160: UserWarning: [22:17:25] WARNING: C:\\buildkite-agent\\builds\\buildkite-windows-cpu-autoscaling-group-i-0b3782d1791676daf-1\\xgboost\\xgboost-ci-windows\\src\\common\\error_msg.cc:27: The tree method `gpu_hist` is deprecated since 2.0.0. To use GPU training, set the `device` parameter to CUDA instead.\n",
      "\n",
      "    E.g. tree_method = \"hist\", device = \"cuda\"\n",
      "\n",
      "  warnings.warn(smsg, UserWarning)\n",
      "C:\\Users\\MS\\anaconda3\\lib\\site-packages\\xgboost\\core.py:160: UserWarning: [22:17:25] WARNING: C:\\buildkite-agent\\builds\\buildkite-windows-cpu-autoscaling-group-i-0b3782d1791676daf-1\\xgboost\\xgboost-ci-windows\\src\\learner.cc:742: \n",
      "Parameters: { \"predictor\" } are not used.\n",
      "\n",
      "  warnings.warn(smsg, UserWarning)\n",
      "C:\\Users\\MS\\anaconda3\\lib\\site-packages\\xgboost\\core.py:160: UserWarning: [22:18:01] WARNING: C:\\buildkite-agent\\builds\\buildkite-windows-cpu-autoscaling-group-i-0b3782d1791676daf-1\\xgboost\\xgboost-ci-windows\\src\\common\\error_msg.cc:27: The tree method `gpu_hist` is deprecated since 2.0.0. To use GPU training, set the `device` parameter to CUDA instead.\n",
      "\n",
      "    E.g. tree_method = \"hist\", device = \"cuda\"\n",
      "\n",
      "  warnings.warn(smsg, UserWarning)\n",
      "C:\\Users\\MS\\anaconda3\\lib\\site-packages\\xgboost\\core.py:160: UserWarning: [22:18:02] WARNING: C:\\buildkite-agent\\builds\\buildkite-windows-cpu-autoscaling-group-i-0b3782d1791676daf-1\\xgboost\\xgboost-ci-windows\\src\\common\\error_msg.cc:27: The tree method `gpu_hist` is deprecated since 2.0.0. To use GPU training, set the `device` parameter to CUDA instead.\n",
      "\n",
      "    E.g. tree_method = \"hist\", device = \"cuda\"\n",
      "\n",
      "  warnings.warn(smsg, UserWarning)\n",
      "C:\\Users\\MS\\anaconda3\\lib\\site-packages\\xgboost\\core.py:160: UserWarning: [22:18:02] WARNING: C:\\buildkite-agent\\builds\\buildkite-windows-cpu-autoscaling-group-i-0b3782d1791676daf-1\\xgboost\\xgboost-ci-windows\\src\\learner.cc:742: \n",
      "Parameters: { \"predictor\" } are not used.\n",
      "\n",
      "  warnings.warn(smsg, UserWarning)\n",
      "C:\\Users\\MS\\anaconda3\\lib\\site-packages\\xgboost\\core.py:160: UserWarning: [22:18:39] WARNING: C:\\buildkite-agent\\builds\\buildkite-windows-cpu-autoscaling-group-i-0b3782d1791676daf-1\\xgboost\\xgboost-ci-windows\\src\\common\\error_msg.cc:27: The tree method `gpu_hist` is deprecated since 2.0.0. To use GPU training, set the `device` parameter to CUDA instead.\n",
      "\n",
      "    E.g. tree_method = \"hist\", device = \"cuda\"\n",
      "\n",
      "  warnings.warn(smsg, UserWarning)\n",
      "2024-04-13 22:18:40,823 INFO Fold 0 done!\n",
      "2024-04-13 22:18:40,824 INFO Training and predicting for fold 1\n",
      "C:\\Users\\MS\\anaconda3\\lib\\site-packages\\xgboost\\sklearn.py:889: UserWarning: `early_stopping_rounds` in `fit` method is deprecated for better compatibility with scikit-learn, use `early_stopping_rounds` in constructor or`set_params` instead.\n",
      "  warnings.warn(\n",
      "C:\\Users\\MS\\anaconda3\\lib\\site-packages\\xgboost\\core.py:160: UserWarning: [22:18:41] WARNING: C:\\buildkite-agent\\builds\\buildkite-windows-cpu-autoscaling-group-i-0b3782d1791676daf-1\\xgboost\\xgboost-ci-windows\\src\\common\\error_msg.cc:27: The tree method `gpu_hist` is deprecated since 2.0.0. To use GPU training, set the `device` parameter to CUDA instead.\n",
      "\n",
      "    E.g. tree_method = \"hist\", device = \"cuda\"\n",
      "\n",
      "  warnings.warn(smsg, UserWarning)\n",
      "C:\\Users\\MS\\anaconda3\\lib\\site-packages\\xgboost\\core.py:160: UserWarning: [22:18:41] WARNING: C:\\buildkite-agent\\builds\\buildkite-windows-cpu-autoscaling-group-i-0b3782d1791676daf-1\\xgboost\\xgboost-ci-windows\\src\\learner.cc:742: \n",
      "Parameters: { \"predictor\" } are not used.\n",
      "\n",
      "  warnings.warn(smsg, UserWarning)\n",
      "C:\\Users\\MS\\anaconda3\\lib\\site-packages\\xgboost\\core.py:160: UserWarning: [22:19:20] WARNING: C:\\buildkite-agent\\builds\\buildkite-windows-cpu-autoscaling-group-i-0b3782d1791676daf-1\\xgboost\\xgboost-ci-windows\\src\\common\\error_msg.cc:27: The tree method `gpu_hist` is deprecated since 2.0.0. To use GPU training, set the `device` parameter to CUDA instead.\n",
      "\n",
      "    E.g. tree_method = \"hist\", device = \"cuda\"\n",
      "\n",
      "  warnings.warn(smsg, UserWarning)\n",
      "C:\\Users\\MS\\anaconda3\\lib\\site-packages\\xgboost\\core.py:160: UserWarning: [22:19:21] WARNING: C:\\buildkite-agent\\builds\\buildkite-windows-cpu-autoscaling-group-i-0b3782d1791676daf-1\\xgboost\\xgboost-ci-windows\\src\\common\\error_msg.cc:27: The tree method `gpu_hist` is deprecated since 2.0.0. To use GPU training, set the `device` parameter to CUDA instead.\n",
      "\n",
      "    E.g. tree_method = \"hist\", device = \"cuda\"\n",
      "\n",
      "  warnings.warn(smsg, UserWarning)\n",
      "C:\\Users\\MS\\anaconda3\\lib\\site-packages\\xgboost\\core.py:160: UserWarning: [22:19:21] WARNING: C:\\buildkite-agent\\builds\\buildkite-windows-cpu-autoscaling-group-i-0b3782d1791676daf-1\\xgboost\\xgboost-ci-windows\\src\\learner.cc:742: \n",
      "Parameters: { \"predictor\" } are not used.\n",
      "\n",
      "  warnings.warn(smsg, UserWarning)\n",
      "C:\\Users\\MS\\anaconda3\\lib\\site-packages\\xgboost\\core.py:160: UserWarning: [22:19:55] WARNING: C:\\buildkite-agent\\builds\\buildkite-windows-cpu-autoscaling-group-i-0b3782d1791676daf-1\\xgboost\\xgboost-ci-windows\\src\\common\\error_msg.cc:27: The tree method `gpu_hist` is deprecated since 2.0.0. To use GPU training, set the `device` parameter to CUDA instead.\n",
      "\n",
      "    E.g. tree_method = \"hist\", device = \"cuda\"\n",
      "\n",
      "  warnings.warn(smsg, UserWarning)\n",
      "C:\\Users\\MS\\anaconda3\\lib\\site-packages\\xgboost\\core.py:160: UserWarning: [22:19:56] WARNING: C:\\buildkite-agent\\builds\\buildkite-windows-cpu-autoscaling-group-i-0b3782d1791676daf-1\\xgboost\\xgboost-ci-windows\\src\\common\\error_msg.cc:27: The tree method `gpu_hist` is deprecated since 2.0.0. To use GPU training, set the `device` parameter to CUDA instead.\n",
      "\n",
      "    E.g. tree_method = \"hist\", device = \"cuda\"\n",
      "\n",
      "  warnings.warn(smsg, UserWarning)\n",
      "C:\\Users\\MS\\anaconda3\\lib\\site-packages\\xgboost\\core.py:160: UserWarning: [22:19:56] WARNING: C:\\buildkite-agent\\builds\\buildkite-windows-cpu-autoscaling-group-i-0b3782d1791676daf-1\\xgboost\\xgboost-ci-windows\\src\\learner.cc:742: \n",
      "Parameters: { \"predictor\" } are not used.\n",
      "\n",
      "  warnings.warn(smsg, UserWarning)\n"
     ]
    },
    {
     "name": "stderr",
     "output_type": "stream",
     "text": [
      "C:\\Users\\MS\\anaconda3\\lib\\site-packages\\xgboost\\core.py:160: UserWarning: [22:20:30] WARNING: C:\\buildkite-agent\\builds\\buildkite-windows-cpu-autoscaling-group-i-0b3782d1791676daf-1\\xgboost\\xgboost-ci-windows\\src\\common\\error_msg.cc:27: The tree method `gpu_hist` is deprecated since 2.0.0. To use GPU training, set the `device` parameter to CUDA instead.\n",
      "\n",
      "    E.g. tree_method = \"hist\", device = \"cuda\"\n",
      "\n",
      "  warnings.warn(smsg, UserWarning)\n",
      "2024-04-13 22:20:32,101 INFO Fold 1 done!\n",
      "2024-04-13 22:20:32,101 INFO Training and predicting for fold 2\n",
      "C:\\Users\\MS\\anaconda3\\lib\\site-packages\\xgboost\\sklearn.py:889: UserWarning: `early_stopping_rounds` in `fit` method is deprecated for better compatibility with scikit-learn, use `early_stopping_rounds` in constructor or`set_params` instead.\n",
      "  warnings.warn(\n",
      "C:\\Users\\MS\\anaconda3\\lib\\site-packages\\xgboost\\core.py:160: UserWarning: [22:20:32] WARNING: C:\\buildkite-agent\\builds\\buildkite-windows-cpu-autoscaling-group-i-0b3782d1791676daf-1\\xgboost\\xgboost-ci-windows\\src\\common\\error_msg.cc:27: The tree method `gpu_hist` is deprecated since 2.0.0. To use GPU training, set the `device` parameter to CUDA instead.\n",
      "\n",
      "    E.g. tree_method = \"hist\", device = \"cuda\"\n",
      "\n",
      "  warnings.warn(smsg, UserWarning)\n",
      "C:\\Users\\MS\\anaconda3\\lib\\site-packages\\xgboost\\core.py:160: UserWarning: [22:20:32] WARNING: C:\\buildkite-agent\\builds\\buildkite-windows-cpu-autoscaling-group-i-0b3782d1791676daf-1\\xgboost\\xgboost-ci-windows\\src\\learner.cc:742: \n",
      "Parameters: { \"predictor\" } are not used.\n",
      "\n",
      "  warnings.warn(smsg, UserWarning)\n",
      "C:\\Users\\MS\\anaconda3\\lib\\site-packages\\xgboost\\core.py:160: UserWarning: [22:21:08] WARNING: C:\\buildkite-agent\\builds\\buildkite-windows-cpu-autoscaling-group-i-0b3782d1791676daf-1\\xgboost\\xgboost-ci-windows\\src\\common\\error_msg.cc:27: The tree method `gpu_hist` is deprecated since 2.0.0. To use GPU training, set the `device` parameter to CUDA instead.\n",
      "\n",
      "    E.g. tree_method = \"hist\", device = \"cuda\"\n",
      "\n",
      "  warnings.warn(smsg, UserWarning)\n",
      "C:\\Users\\MS\\anaconda3\\lib\\site-packages\\xgboost\\core.py:160: UserWarning: [22:21:08] WARNING: C:\\buildkite-agent\\builds\\buildkite-windows-cpu-autoscaling-group-i-0b3782d1791676daf-1\\xgboost\\xgboost-ci-windows\\src\\learner.cc:742: \n",
      "Parameters: { \"predictor\" } are not used.\n",
      "\n",
      "  warnings.warn(smsg, UserWarning)\n",
      "C:\\Users\\MS\\anaconda3\\lib\\site-packages\\xgboost\\core.py:160: UserWarning: [22:21:47] WARNING: C:\\buildkite-agent\\builds\\buildkite-windows-cpu-autoscaling-group-i-0b3782d1791676daf-1\\xgboost\\xgboost-ci-windows\\src\\common\\error_msg.cc:27: The tree method `gpu_hist` is deprecated since 2.0.0. To use GPU training, set the `device` parameter to CUDA instead.\n",
      "\n",
      "    E.g. tree_method = \"hist\", device = \"cuda\"\n",
      "\n",
      "  warnings.warn(smsg, UserWarning)\n",
      "C:\\Users\\MS\\anaconda3\\lib\\site-packages\\xgboost\\core.py:160: UserWarning: [22:21:47] WARNING: C:\\buildkite-agent\\builds\\buildkite-windows-cpu-autoscaling-group-i-0b3782d1791676daf-1\\xgboost\\xgboost-ci-windows\\src\\learner.cc:742: \n",
      "Parameters: { \"predictor\" } are not used.\n",
      "\n",
      "  warnings.warn(smsg, UserWarning)\n",
      "C:\\Users\\MS\\anaconda3\\lib\\site-packages\\xgboost\\core.py:160: UserWarning: [22:22:26] WARNING: C:\\buildkite-agent\\builds\\buildkite-windows-cpu-autoscaling-group-i-0b3782d1791676daf-1\\xgboost\\xgboost-ci-windows\\src\\common\\error_msg.cc:27: The tree method `gpu_hist` is deprecated since 2.0.0. To use GPU training, set the `device` parameter to CUDA instead.\n",
      "\n",
      "    E.g. tree_method = \"hist\", device = \"cuda\"\n",
      "\n",
      "  warnings.warn(smsg, UserWarning)\n",
      "2024-04-13 22:22:28,071 INFO Fold 2 done!\n",
      "2024-04-13 22:22:28,072 INFO Training and predicting for fold 3\n",
      "C:\\Users\\MS\\anaconda3\\lib\\site-packages\\xgboost\\sklearn.py:889: UserWarning: `early_stopping_rounds` in `fit` method is deprecated for better compatibility with scikit-learn, use `early_stopping_rounds` in constructor or`set_params` instead.\n",
      "  warnings.warn(\n",
      "C:\\Users\\MS\\anaconda3\\lib\\site-packages\\xgboost\\core.py:160: UserWarning: [22:22:28] WARNING: C:\\buildkite-agent\\builds\\buildkite-windows-cpu-autoscaling-group-i-0b3782d1791676daf-1\\xgboost\\xgboost-ci-windows\\src\\common\\error_msg.cc:27: The tree method `gpu_hist` is deprecated since 2.0.0. To use GPU training, set the `device` parameter to CUDA instead.\n",
      "\n",
      "    E.g. tree_method = \"hist\", device = \"cuda\"\n",
      "\n",
      "  warnings.warn(smsg, UserWarning)\n",
      "C:\\Users\\MS\\anaconda3\\lib\\site-packages\\xgboost\\core.py:160: UserWarning: [22:22:28] WARNING: C:\\buildkite-agent\\builds\\buildkite-windows-cpu-autoscaling-group-i-0b3782d1791676daf-1\\xgboost\\xgboost-ci-windows\\src\\learner.cc:742: \n",
      "Parameters: { \"predictor\" } are not used.\n",
      "\n",
      "  warnings.warn(smsg, UserWarning)\n",
      "C:\\Users\\MS\\anaconda3\\lib\\site-packages\\xgboost\\core.py:160: UserWarning: [22:23:06] WARNING: C:\\buildkite-agent\\builds\\buildkite-windows-cpu-autoscaling-group-i-0b3782d1791676daf-1\\xgboost\\xgboost-ci-windows\\src\\common\\error_msg.cc:27: The tree method `gpu_hist` is deprecated since 2.0.0. To use GPU training, set the `device` parameter to CUDA instead.\n",
      "\n",
      "    E.g. tree_method = \"hist\", device = \"cuda\"\n",
      "\n",
      "  warnings.warn(smsg, UserWarning)\n",
      "C:\\Users\\MS\\anaconda3\\lib\\site-packages\\xgboost\\core.py:160: UserWarning: [22:23:06] WARNING: C:\\buildkite-agent\\builds\\buildkite-windows-cpu-autoscaling-group-i-0b3782d1791676daf-1\\xgboost\\xgboost-ci-windows\\src\\learner.cc:742: \n",
      "Parameters: { \"predictor\" } are not used.\n",
      "\n",
      "  warnings.warn(smsg, UserWarning)\n",
      "C:\\Users\\MS\\anaconda3\\lib\\site-packages\\xgboost\\core.py:160: UserWarning: [22:23:43] WARNING: C:\\buildkite-agent\\builds\\buildkite-windows-cpu-autoscaling-group-i-0b3782d1791676daf-1\\xgboost\\xgboost-ci-windows\\src\\common\\error_msg.cc:27: The tree method `gpu_hist` is deprecated since 2.0.0. To use GPU training, set the `device` parameter to CUDA instead.\n",
      "\n",
      "    E.g. tree_method = \"hist\", device = \"cuda\"\n",
      "\n",
      "  warnings.warn(smsg, UserWarning)\n",
      "C:\\Users\\MS\\anaconda3\\lib\\site-packages\\xgboost\\core.py:160: UserWarning: [22:23:44] WARNING: C:\\buildkite-agent\\builds\\buildkite-windows-cpu-autoscaling-group-i-0b3782d1791676daf-1\\xgboost\\xgboost-ci-windows\\src\\learner.cc:742: \n",
      "Parameters: { \"predictor\" } are not used.\n",
      "\n",
      "  warnings.warn(smsg, UserWarning)\n",
      "C:\\Users\\MS\\anaconda3\\lib\\site-packages\\xgboost\\core.py:160: UserWarning: [22:24:19] WARNING: C:\\buildkite-agent\\builds\\buildkite-windows-cpu-autoscaling-group-i-0b3782d1791676daf-1\\xgboost\\xgboost-ci-windows\\src\\common\\error_msg.cc:27: The tree method `gpu_hist` is deprecated since 2.0.0. To use GPU training, set the `device` parameter to CUDA instead.\n",
      "\n",
      "    E.g. tree_method = \"hist\", device = \"cuda\"\n",
      "\n",
      "  warnings.warn(smsg, UserWarning)\n",
      "2024-04-13 22:24:20,807 INFO Fold 3 done!\n",
      "2024-04-13 22:24:20,809 INFO Training and predicting for fold 4\n",
      "C:\\Users\\MS\\anaconda3\\lib\\site-packages\\xgboost\\sklearn.py:889: UserWarning: `early_stopping_rounds` in `fit` method is deprecated for better compatibility with scikit-learn, use `early_stopping_rounds` in constructor or`set_params` instead.\n",
      "  warnings.warn(\n",
      "C:\\Users\\MS\\anaconda3\\lib\\site-packages\\xgboost\\core.py:160: UserWarning: [22:24:21] WARNING: C:\\buildkite-agent\\builds\\buildkite-windows-cpu-autoscaling-group-i-0b3782d1791676daf-1\\xgboost\\xgboost-ci-windows\\src\\common\\error_msg.cc:27: The tree method `gpu_hist` is deprecated since 2.0.0. To use GPU training, set the `device` parameter to CUDA instead.\n",
      "\n",
      "    E.g. tree_method = \"hist\", device = \"cuda\"\n",
      "\n",
      "  warnings.warn(smsg, UserWarning)\n",
      "C:\\Users\\MS\\anaconda3\\lib\\site-packages\\xgboost\\core.py:160: UserWarning: [22:24:21] WARNING: C:\\buildkite-agent\\builds\\buildkite-windows-cpu-autoscaling-group-i-0b3782d1791676daf-1\\xgboost\\xgboost-ci-windows\\src\\learner.cc:742: \n",
      "Parameters: { \"predictor\" } are not used.\n",
      "\n",
      "  warnings.warn(smsg, UserWarning)\n",
      "C:\\Users\\MS\\anaconda3\\lib\\site-packages\\xgboost\\core.py:160: UserWarning: [22:24:56] WARNING: C:\\buildkite-agent\\builds\\buildkite-windows-cpu-autoscaling-group-i-0b3782d1791676daf-1\\xgboost\\xgboost-ci-windows\\src\\common\\error_msg.cc:27: The tree method `gpu_hist` is deprecated since 2.0.0. To use GPU training, set the `device` parameter to CUDA instead.\n",
      "\n",
      "    E.g. tree_method = \"hist\", device = \"cuda\"\n",
      "\n",
      "  warnings.warn(smsg, UserWarning)\n",
      "C:\\Users\\MS\\anaconda3\\lib\\site-packages\\xgboost\\core.py:160: UserWarning: [22:24:57] WARNING: C:\\buildkite-agent\\builds\\buildkite-windows-cpu-autoscaling-group-i-0b3782d1791676daf-1\\xgboost\\xgboost-ci-windows\\src\\common\\error_msg.cc:27: The tree method `gpu_hist` is deprecated since 2.0.0. To use GPU training, set the `device` parameter to CUDA instead.\n",
      "\n",
      "    E.g. tree_method = \"hist\", device = \"cuda\"\n",
      "\n",
      "  warnings.warn(smsg, UserWarning)\n",
      "C:\\Users\\MS\\anaconda3\\lib\\site-packages\\xgboost\\core.py:160: UserWarning: [22:24:57] WARNING: C:\\buildkite-agent\\builds\\buildkite-windows-cpu-autoscaling-group-i-0b3782d1791676daf-1\\xgboost\\xgboost-ci-windows\\src\\learner.cc:742: \n",
      "Parameters: { \"predictor\" } are not used.\n",
      "\n",
      "  warnings.warn(smsg, UserWarning)\n"
     ]
    },
    {
     "name": "stderr",
     "output_type": "stream",
     "text": [
      "C:\\Users\\MS\\anaconda3\\lib\\site-packages\\xgboost\\core.py:160: UserWarning: [22:25:33] WARNING: C:\\buildkite-agent\\builds\\buildkite-windows-cpu-autoscaling-group-i-0b3782d1791676daf-1\\xgboost\\xgboost-ci-windows\\src\\common\\error_msg.cc:27: The tree method `gpu_hist` is deprecated since 2.0.0. To use GPU training, set the `device` parameter to CUDA instead.\n",
      "\n",
      "    E.g. tree_method = \"hist\", device = \"cuda\"\n",
      "\n",
      "  warnings.warn(smsg, UserWarning)\n",
      "C:\\Users\\MS\\anaconda3\\lib\\site-packages\\xgboost\\core.py:160: UserWarning: [22:25:34] WARNING: C:\\buildkite-agent\\builds\\buildkite-windows-cpu-autoscaling-group-i-0b3782d1791676daf-1\\xgboost\\xgboost-ci-windows\\src\\common\\error_msg.cc:27: The tree method `gpu_hist` is deprecated since 2.0.0. To use GPU training, set the `device` parameter to CUDA instead.\n",
      "\n",
      "    E.g. tree_method = \"hist\", device = \"cuda\"\n",
      "\n",
      "  warnings.warn(smsg, UserWarning)\n",
      "C:\\Users\\MS\\anaconda3\\lib\\site-packages\\xgboost\\core.py:160: UserWarning: [22:25:34] WARNING: C:\\buildkite-agent\\builds\\buildkite-windows-cpu-autoscaling-group-i-0b3782d1791676daf-1\\xgboost\\xgboost-ci-windows\\src\\learner.cc:742: \n",
      "Parameters: { \"predictor\" } are not used.\n",
      "\n",
      "  warnings.warn(smsg, UserWarning)\n",
      "C:\\Users\\MS\\anaconda3\\lib\\site-packages\\xgboost\\core.py:160: UserWarning: [22:26:10] WARNING: C:\\buildkite-agent\\builds\\buildkite-windows-cpu-autoscaling-group-i-0b3782d1791676daf-1\\xgboost\\xgboost-ci-windows\\src\\common\\error_msg.cc:27: The tree method `gpu_hist` is deprecated since 2.0.0. To use GPU training, set the `device` parameter to CUDA instead.\n",
      "\n",
      "    E.g. tree_method = \"hist\", device = \"cuda\"\n",
      "\n",
      "  warnings.warn(smsg, UserWarning)\n",
      "2024-04-13 22:26:11,271 INFO Fold 4 done!\n",
      "2024-04-13 22:26:11,272 INFO Metrics: {'r2': 0.9906599047793858, 'mse': 261.8648986816406, 'mae': 7.598938083648681, 'rmse': 13.32809658050537}\n"
     ]
    }
   ],
   "source": [
    "model.train()"
   ]
  },
  {
   "cell_type": "code",
   "execution_count": 13,
   "id": "5e4984d5",
   "metadata": {
    "execution": {
     "iopub.execute_input": "2022-02-01T06:17:47.125543Z",
     "iopub.status.busy": "2022-02-01T06:17:47.124570Z",
     "iopub.status.idle": "2022-02-01T06:17:47.138467Z",
     "shell.execute_reply": "2022-02-01T06:17:47.137889Z"
    },
    "papermill": {
     "duration": 0.087675,
     "end_time": "2022-02-01T06:17:47.138617",
     "exception": false,
     "start_time": "2022-02-01T06:17:47.050942",
     "status": "completed"
    },
    "tags": []
   },
   "outputs": [],
   "source": [
    "test_preds = pd.read_csv(\"./autoxgb/test_predictions.csv\")"
   ]
  },
  {
   "cell_type": "code",
   "execution_count": 14,
   "id": "b792a6be",
   "metadata": {
    "execution": {
     "iopub.execute_input": "2022-02-01T06:17:47.286105Z",
     "iopub.status.busy": "2022-02-01T06:17:47.285421Z",
     "iopub.status.idle": "2022-02-01T06:17:47.301060Z",
     "shell.execute_reply": "2022-02-01T06:17:47.300534Z"
    },
    "papermill": {
     "duration": 0.092374,
     "end_time": "2022-02-01T06:17:47.301232",
     "exception": false,
     "start_time": "2022-02-01T06:17:47.208858",
     "status": "completed"
    },
    "tags": []
   },
   "outputs": [
    {
     "data": {
      "text/html": [
       "<div>\n",
       "<style scoped>\n",
       "    .dataframe tbody tr th:only-of-type {\n",
       "        vertical-align: middle;\n",
       "    }\n",
       "\n",
       "    .dataframe tbody tr th {\n",
       "        vertical-align: top;\n",
       "    }\n",
       "\n",
       "    .dataframe thead th {\n",
       "        text-align: right;\n",
       "    }\n",
       "</style>\n",
       "<table border=\"1\" class=\"dataframe\">\n",
       "  <thead>\n",
       "    <tr style=\"text-align: right;\">\n",
       "      <th></th>\n",
       "      <th>id</th>\n",
       "      <th>Clearsky DHI</th>\n",
       "      <th>Clearsky DNI</th>\n",
       "      <th>Clearsky GHI</th>\n",
       "    </tr>\n",
       "  </thead>\n",
       "  <tbody>\n",
       "    <tr>\n",
       "      <th>0</th>\n",
       "      <td>0</td>\n",
       "      <td>3.301086</td>\n",
       "      <td>-24.745617</td>\n",
       "      <td>0.008044</td>\n",
       "    </tr>\n",
       "    <tr>\n",
       "      <th>1</th>\n",
       "      <td>1</td>\n",
       "      <td>3.457900</td>\n",
       "      <td>-21.377650</td>\n",
       "      <td>0.288168</td>\n",
       "    </tr>\n",
       "    <tr>\n",
       "      <th>2</th>\n",
       "      <td>2</td>\n",
       "      <td>2.909381</td>\n",
       "      <td>-18.053015</td>\n",
       "      <td>0.225903</td>\n",
       "    </tr>\n",
       "    <tr>\n",
       "      <th>3</th>\n",
       "      <td>3</td>\n",
       "      <td>2.757343</td>\n",
       "      <td>-18.160847</td>\n",
       "      <td>-0.066910</td>\n",
       "    </tr>\n",
       "    <tr>\n",
       "      <th>4</th>\n",
       "      <td>4</td>\n",
       "      <td>2.674751</td>\n",
       "      <td>-13.688062</td>\n",
       "      <td>-0.428625</td>\n",
       "    </tr>\n",
       "  </tbody>\n",
       "</table>\n",
       "</div>"
      ],
      "text/plain": [
       "   id  Clearsky DHI  Clearsky DNI  Clearsky GHI\n",
       "0   0      3.301086    -24.745617      0.008044\n",
       "1   1      3.457900    -21.377650      0.288168\n",
       "2   2      2.909381    -18.053015      0.225903\n",
       "3   3      2.757343    -18.160847     -0.066910\n",
       "4   4      2.674751    -13.688062     -0.428625"
      ]
     },
     "execution_count": 14,
     "metadata": {},
     "output_type": "execute_result"
    }
   ],
   "source": [
    "test_preds.head()"
   ]
  },
  {
   "cell_type": "code",
   "execution_count": 21,
   "id": "2088e7c8",
   "metadata": {},
   "outputs": [
    {
     "ename": "NameError",
     "evalue": "name 'best_params' is not defined",
     "output_type": "error",
     "traceback": [
      "\u001b[1;31m---------------------------------------------------------------------------\u001b[0m",
      "\u001b[1;31mNameError\u001b[0m                                 Traceback (most recent call last)",
      "\u001b[1;32m~\\AppData\\Local\\Temp\\ipykernel_42728\\1587850211.py\u001b[0m in \u001b[0;36m<module>\u001b[1;34m\u001b[0m\n\u001b[1;32m----> 1\u001b[1;33m \u001b[0mearly_stopping_rounds\u001b[0m \u001b[1;33m=\u001b[0m \u001b[0mbest_params\u001b[0m\u001b[1;33m.\u001b[0m\u001b[0mget\u001b[0m\u001b[1;33m(\u001b[0m\u001b[1;34m\"early_stopping_rounds\"\u001b[0m\u001b[1;33m,\u001b[0m \u001b[1;32mNone\u001b[0m\u001b[1;33m)\u001b[0m\u001b[1;33m\u001b[0m\u001b[1;33m\u001b[0m\u001b[0m\n\u001b[0m\u001b[0;32m      2\u001b[0m \u001b[1;32mif\u001b[0m \u001b[0mearly_stopping_rounds\u001b[0m \u001b[1;32mis\u001b[0m \u001b[1;32mnot\u001b[0m \u001b[1;32mNone\u001b[0m\u001b[1;33m:\u001b[0m\u001b[1;33m\u001b[0m\u001b[1;33m\u001b[0m\u001b[0m\n\u001b[0;32m      3\u001b[0m     \u001b[1;32mdel\u001b[0m \u001b[0mbest_params\u001b[0m\u001b[1;33m[\u001b[0m\u001b[1;34m\"early_stopping_rounds\"\u001b[0m\u001b[1;33m]\u001b[0m\u001b[1;33m\u001b[0m\u001b[1;33m\u001b[0m\u001b[0m\n\u001b[0;32m      4\u001b[0m \u001b[1;33m\u001b[0m\u001b[0m\n\u001b[0;32m      5\u001b[0m \u001b[0mtest_data\u001b[0m \u001b[1;33m=\u001b[0m \u001b[0mpd\u001b[0m\u001b[1;33m.\u001b[0m\u001b[0mread_csv\u001b[0m\u001b[1;33m(\u001b[0m\u001b[1;34m\"test.csv\"\u001b[0m\u001b[1;33m)\u001b[0m\u001b[1;33m\u001b[0m\u001b[1;33m\u001b[0m\u001b[0m\n",
      "\u001b[1;31mNameError\u001b[0m: name 'best_params' is not defined"
     ]
    }
   ],
   "source": [
    "early_stopping_rounds = best_params.get(\"early_stopping_rounds\", None)\n",
    "if early_stopping_rounds is not None:\n",
    "    del best_params[\"early_stopping_rounds\"]\n",
    "\n",
    "test_data = pd.read_csv(\"test.csv\")\n",
    "\n",
    "# Make predictions using the loaded test data\n",
    "predictions = model.predict(test_data)"
   ]
  },
  {
   "cell_type": "code",
   "execution_count": 15,
   "id": "b8ccdd67",
   "metadata": {
    "execution": {
     "iopub.execute_input": "2022-02-01T06:17:47.450187Z",
     "iopub.status.busy": "2022-02-01T06:17:47.449356Z",
     "iopub.status.idle": "2022-02-01T06:17:47.452818Z",
     "shell.execute_reply": "2022-02-01T06:17:47.453375Z"
    },
    "papermill": {
     "duration": 0.08191,
     "end_time": "2022-02-01T06:17:47.453533",
     "exception": false,
     "start_time": "2022-02-01T06:17:47.371623",
     "status": "completed"
    },
    "tags": []
   },
   "outputs": [
    {
     "data": {
      "text/plain": [
       "0            0\n",
       "1            1\n",
       "2            2\n",
       "3            3\n",
       "4            4\n",
       "         ...  \n",
       "17515    17515\n",
       "17516    17516\n",
       "17517    17517\n",
       "17518    17518\n",
       "17519    17519\n",
       "Name: id, Length: 17520, dtype: int64"
      ]
     },
     "execution_count": 15,
     "metadata": {},
     "output_type": "execute_result"
    }
   ],
   "source": [
    "test_preds.pop('id')"
   ]
  },
  {
   "cell_type": "code",
   "execution_count": 16,
   "id": "e077620e",
   "metadata": {
    "execution": {
     "iopub.execute_input": "2022-02-01T06:17:47.605385Z",
     "iopub.status.busy": "2022-02-01T06:17:47.604434Z",
     "iopub.status.idle": "2022-02-01T06:17:47.608075Z",
     "shell.execute_reply": "2022-02-01T06:17:47.608636Z"
    },
    "papermill": {
     "duration": 0.084756,
     "end_time": "2022-02-01T06:17:47.608795",
     "exception": false,
     "start_time": "2022-02-01T06:17:47.524039",
     "status": "completed"
    },
    "tags": []
   },
   "outputs": [
    {
     "data": {
      "text/html": [
       "<div>\n",
       "<style scoped>\n",
       "    .dataframe tbody tr th:only-of-type {\n",
       "        vertical-align: middle;\n",
       "    }\n",
       "\n",
       "    .dataframe tbody tr th {\n",
       "        vertical-align: top;\n",
       "    }\n",
       "\n",
       "    .dataframe thead th {\n",
       "        text-align: right;\n",
       "    }\n",
       "</style>\n",
       "<table border=\"1\" class=\"dataframe\">\n",
       "  <thead>\n",
       "    <tr style=\"text-align: right;\">\n",
       "      <th></th>\n",
       "      <th>Clearsky DHI</th>\n",
       "      <th>Clearsky DNI</th>\n",
       "      <th>Clearsky GHI</th>\n",
       "    </tr>\n",
       "  </thead>\n",
       "  <tbody>\n",
       "    <tr>\n",
       "      <th>0</th>\n",
       "      <td>3.301086</td>\n",
       "      <td>-24.745617</td>\n",
       "      <td>0.008044</td>\n",
       "    </tr>\n",
       "    <tr>\n",
       "      <th>1</th>\n",
       "      <td>3.457900</td>\n",
       "      <td>-21.377650</td>\n",
       "      <td>0.288168</td>\n",
       "    </tr>\n",
       "    <tr>\n",
       "      <th>2</th>\n",
       "      <td>2.909381</td>\n",
       "      <td>-18.053015</td>\n",
       "      <td>0.225903</td>\n",
       "    </tr>\n",
       "    <tr>\n",
       "      <th>3</th>\n",
       "      <td>2.757343</td>\n",
       "      <td>-18.160847</td>\n",
       "      <td>-0.066910</td>\n",
       "    </tr>\n",
       "    <tr>\n",
       "      <th>4</th>\n",
       "      <td>2.674751</td>\n",
       "      <td>-13.688062</td>\n",
       "      <td>-0.428625</td>\n",
       "    </tr>\n",
       "  </tbody>\n",
       "</table>\n",
       "</div>"
      ],
      "text/plain": [
       "   Clearsky DHI  Clearsky DNI  Clearsky GHI\n",
       "0      3.301086    -24.745617      0.008044\n",
       "1      3.457900    -21.377650      0.288168\n",
       "2      2.909381    -18.053015      0.225903\n",
       "3      2.757343    -18.160847     -0.066910\n",
       "4      2.674751    -13.688062     -0.428625"
      ]
     },
     "execution_count": 16,
     "metadata": {},
     "output_type": "execute_result"
    }
   ],
   "source": [
    "test_preds.head()"
   ]
  },
  {
   "cell_type": "code",
   "execution_count": null,
   "id": "1052cd52",
   "metadata": {
    "execution": {
     "iopub.execute_input": "2022-02-01T06:17:47.758003Z",
     "iopub.status.busy": "2022-02-01T06:17:47.757020Z",
     "iopub.status.idle": "2022-02-01T06:17:47.834732Z",
     "shell.execute_reply": "2022-02-01T06:17:47.834171Z"
    },
    "papermill": {
     "duration": 0.15531,
     "end_time": "2022-02-01T06:17:47.834884",
     "exception": false,
     "start_time": "2022-02-01T06:17:47.679574",
     "status": "completed"
    },
    "tags": []
   },
   "outputs": [],
   "source": [
    "# test_preds.to_csv(\"my_submission_file.csv\", index=False)"
   ]
  }
 ],
 "metadata": {
  "kernelspec": {
   "display_name": "Python 3 (ipykernel)",
   "language": "python",
   "name": "python3"
  },
  "language_info": {
   "codemirror_mode": {
    "name": "ipython",
    "version": 3
   },
   "file_extension": ".py",
   "mimetype": "text/x-python",
   "name": "python",
   "nbconvert_exporter": "python",
   "pygments_lexer": "ipython3",
   "version": "3.9.13"
  },
  "papermill": {
   "default_parameters": {},
   "duration": 1213.14749,
   "end_time": "2022-02-01T06:17:49.221693",
   "environment_variables": {},
   "exception": null,
   "input_path": "__notebook__.ipynb",
   "output_path": "__notebook__.ipynb",
   "parameters": {},
   "start_time": "2022-02-01T05:57:36.074203",
   "version": "2.3.3"
  }
 },
 "nbformat": 4,
 "nbformat_minor": 5
}
